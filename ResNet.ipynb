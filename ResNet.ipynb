{
 "cells": [
  {
   "cell_type": "code",
   "execution_count": 1,
   "metadata": {
    "collapsed": false,
    "deletable": true,
    "editable": true
   },
   "outputs": [],
   "source": [
    "from __future__ import division\n",
    "from __future__ import print_function\n",
    "\n",
    "import os\n",
    "import random\n",
    "import matplotlib.pyplot as plt\n",
    "import numpy as np\n",
    "import tensorflow as tf\n",
    "from IPython.display import display, Math\n",
    "from scipy.misc import imread"
   ]
  },
  {
   "cell_type": "code",
   "execution_count": 2,
   "metadata": {
    "collapsed": true,
    "deletable": true,
    "editable": true
   },
   "outputs": [],
   "source": [
    "def plot(errs, title='Error', ylabel='Error %', step=1):\n",
    "    plt.title(title)\n",
    "    plt.xlabel('Epoch')\n",
    "    plt.ylabel(ylabel)\n",
    "    plt.plot(range(0, len(errs) * step, step), errs)\n",
    "    plt.show()\n",
    "\n",
    "def mean_norm(dataset):\n",
    "    \"\"\"\n",
    "    subtract mean and do normalization for each image\n",
    "    Args:\n",
    "        dataset: dataset with shape [N, H, W, C]\n",
    "                 N data points, Height H, Width W, Channel C\n",
    "    Return:\n",
    "        dataset: processed dataset\n",
    "    \"\"\"\n",
    "    N, H, W, C = dataset.shape\n",
    "    X = dataset.reshape((N, -1))\n",
    "    X -= np.mean(X, axis = 0)\n",
    "    X /= np.std(X, axis = 0)\n",
    "    X = X.reshape((N, H, W, C))\n",
    "    return X"
   ]
  },
  {
   "cell_type": "code",
   "execution_count": 3,
   "metadata": {
    "collapsed": false,
    "deletable": true,
    "editable": true
   },
   "outputs": [],
   "source": [
    "# Read label names\n",
    "with open('tiny-imagenet-200/wnids.txt') as f:\n",
    "    wnids = {l.strip(): i for i, l in enumerate(f)}"
   ]
  },
  {
   "cell_type": "code",
   "execution_count": 4,
   "metadata": {
    "collapsed": false,
    "deletable": true,
    "editable": true
   },
   "outputs": [],
   "source": [
    "# Read training images and construct labels\n",
    "imgs = []\n",
    "labs = []\n",
    "for wnid in wnids.keys():\n",
    "    subdir = 'tiny-imagenet-200/train/%s/images/' % wnid\n",
    "    files = [subdir + s for s in os.listdir(subdir)]\n",
    "    imgs.extend([imread(f, mode='RGB') for f in files])\n",
    "    labs.extend([np.eye(200)[wnids[wnid]]] * len(files))"
   ]
  },
  {
   "cell_type": "code",
   "execution_count": 5,
   "metadata": {
    "collapsed": false,
    "deletable": true,
    "editable": true
   },
   "outputs": [],
   "source": [
    "# Shuffle training images and labels\n",
    "comb = zip(labs, imgs)\n",
    "random.shuffle(comb)\n",
    "s_labs, s_imgs = zip(*comb)"
   ]
  },
  {
   "cell_type": "code",
   "execution_count": 6,
   "metadata": {
    "collapsed": false,
    "deletable": true,
    "editable": true
   },
   "outputs": [],
   "source": [
    "# Put into training dictionary\n",
    "dat_train = {\n",
    "    'imgs': mean_norm(np.array(s_imgs, dtype=np.float32)),\n",
    "    'labs': np.array(s_labs, dtype=np.int32),\n",
    "}"
   ]
  },
  {
   "cell_type": "code",
   "execution_count": 7,
   "metadata": {
    "collapsed": true,
    "deletable": true,
    "editable": true
   },
   "outputs": [],
   "source": [
    "# Read test labels\n",
    "fname_map = {}\n",
    "with open('tiny-imagenet-200/val/val_annotations.txt') as f:\n",
    "    for line in f:\n",
    "        dat = line.strip().split()\n",
    "        fname_map[dat[0]] = dat[1]"
   ]
  },
  {
   "cell_type": "code",
   "execution_count": 8,
   "metadata": {
    "collapsed": true,
    "deletable": true,
    "editable": true
   },
   "outputs": [],
   "source": [
    "# Read test images and construct labels\n",
    "imgs = []\n",
    "labs = []\n",
    "subdir = 'tiny-imagenet-200/val/images/'\n",
    "for f in os.listdir(subdir):\n",
    "    path = subdir + f\n",
    "    imgs.append(imread(path, mode='RGB'))\n",
    "    labs.append(np.eye(200)[wnids[fname_map[f]]])"
   ]
  },
  {
   "cell_type": "code",
   "execution_count": 9,
   "metadata": {
    "collapsed": true,
    "deletable": true,
    "editable": true
   },
   "outputs": [],
   "source": [
    "# Put into testing dictionary\n",
    "dat_test = {\n",
    "    'imgs': mean_norm(np.array(imgs, dtype=np.float32)),\n",
    "    'labs': np.array(labs, dtype=np.int32),\n",
    "}"
   ]
  },
  {
   "cell_type": "code",
   "execution_count": 10,
   "metadata": {
    "collapsed": false,
    "deletable": true,
    "editable": true
   },
   "outputs": [],
   "source": [
    "# Network shape\n",
    "\n",
    "def weight(shape):\n",
    "    return tf.Variable(tf.truncated_normal(shape, stddev=0.1))\n",
    "def bias(shape):\n",
    "    return tf.Variable(tf.constant(0.1, shape=shape))\n",
    "\n",
    "activate = tf.nn.relu\n",
    "def conv(x, filter_size, filters_out, stride=1):\n",
    "    filters_in = x.get_shape()[-1].value\n",
    "    w = weight([filter_size, filter_size, filters_in, filters_out])\n",
    "    b = bias([filters_out])\n",
    "    return activate(\n",
    "        tf.nn.conv2d(x, w, [1, stride, stride, 1], 'SAME') + b)\n",
    "def fc(x, nodes):\n",
    "    vec_in = x.get_shape()[-1].value\n",
    "    w = weight([vec_in, nodes])\n",
    "    b = bias([nodes])\n",
    "    return tf.matmul(x, w) + b\n",
    "\n",
    "# Creates entire network. Takes a function which makes\n",
    "# the convolutional layers.\n",
    "def mk_net(mk_conv, learning_rate):\n",
    "    # Endpoints\n",
    "    _x = tf.placeholder(tf.float32, [None, 64, 64, 3])\n",
    "    _y = tf.placeholder(tf.float32, [None, 200])\n",
    "\n",
    "    _conv = mk_conv(_x)\n",
    "\n",
    "    # Flatten, then fully-connected 500 node\n",
    "    _, w, h, c = [d.value for d in _conv.get_shape()]\n",
    "    _flat = tf.reshape(_conv, [-1, w * h * c])\n",
    "    _hidd = activate(fc(_flat, 500))\n",
    "    _out = fc(_hidd, 200)\n",
    "\n",
    "    # Optimization\n",
    "    _cel = tf.nn.softmax_cross_entropy_with_logits(logits=_out, labels=_y)\n",
    "    _loss = tf.reduce_mean(_cel)\n",
    "    _opt = tf.train.AdamOptimizer(learning_rate).minimize(_loss)\n",
    "\n",
    "    # Validation\n",
    "    _pred = tf.argmax(_out, 1)\n",
    "    _ans = tf.argmax(_y, 1)\n",
    "    _err = tf.reduce_mean(tf.cast(tf.not_equal(_pred, _ans), tf.float32))\n",
    "\n",
    "    _init = tf.global_variables_initializer()\n",
    "    \n",
    "    # Return the nodes we need\n",
    "    return {\n",
    "        'x': _x,\n",
    "        'y': _y,\n",
    "        'opt': _opt,\n",
    "        'pred': _pred,\n",
    "        'err': _err,\n",
    "        'init': _init,\n",
    "    }\n",
    "\n",
    "def plain(x):  \n",
    "    # Create convolutional layers\n",
    "    # 16 layers, 3x3 convolutions\n",
    "    # Pooling via stride + channel increase every 8 layers\n",
    "    _cur = x\n",
    "    filters_out = 8\n",
    "    for _ in range(2):\n",
    "        _cur = conv(_cur, 3, filters_out, 2)\n",
    "        for _ in range(7):\n",
    "            _cur = conv(_cur, 3, filters_out, 1)\n",
    "        filters_out *= 2\n",
    "    return _cur\n",
    "\n",
    "def resnet(decay_factor=1):\n",
    "    def wrapped(x):\n",
    "        # Same as plain, but add residual every 2 layers\n",
    "        # Optional decaying factor\n",
    "        _cur = x\n",
    "        filters_out = 8\n",
    "\n",
    "        for _ in range(2):\n",
    "            _cur = conv(_cur, 3, filters_out, 2)\n",
    "            _res = _cur = conv(_cur, 3, filters_out, 1)\n",
    "            for _ in range(3):\n",
    "                _cur = conv(_cur, 3, filters_out, 1)\n",
    "                _res = _cur = conv(_cur, 3, filters_out, 1) + _res * decay_factor\n",
    "            filters_out *= 2\n",
    "        return _cur\n",
    "    return wrapped\n",
    "\n",
    "def ext_resnet(x):\n",
    "    # Our original design.\n",
    "    # Add residual every multiple of 2 layers\n",
    "    _cur = x\n",
    "    filters_out = 8\n",
    "    \n",
    "    def add_residuals(cur, preds):\n",
    "        for i, pred in enumerate(reversed(preds)):\n",
    "            cur += pred / i\n",
    "        return cur\n",
    "            \n",
    "    for _ in range(2):\n",
    "        _cur = conv(_cur, 3, filters_out, 2)\n",
    "        _cur = conv(_cur, 3, filters_out, 1)\n",
    "        preds = [_cur]\n",
    "        for _ in range(3):\n",
    "            _cur = conv(_cur, 3, filters_out, 1)\n",
    "            _cur = conv(_cur, 3, filters_out, 1)\n",
    "            _cur = add_residuals(_cur, preds)\n",
    "            preds.append(_cur)\n",
    "        filters_out *= 2\n",
    "    return _cur"
   ]
  },
  {
   "cell_type": "code",
   "execution_count": 11,
   "metadata": {
    "collapsed": false,
    "deletable": true,
    "editable": true
   },
   "outputs": [],
   "source": [
    "# Training\n",
    "def train(net, train, test, epochs, batch_size, err_step=1):\n",
    "    e_test = []\n",
    "    \n",
    "    with tf.Session() as sess:\n",
    "        sess.run(net['init'])\n",
    "        for epoch in range(epochs):\n",
    "            print(epoch, end='.')\n",
    "\n",
    "            # Process all batches\n",
    "            for idx in range(0, len(imgs), batch_size):\n",
    "                print('.', end='')\n",
    "                sess.run(net['opt'], {\n",
    "                    net['x']: train['imgs'][idx:idx + batch_size],\n",
    "                    net['y']: train['labs'][idx:idx + batch_size],\n",
    "                })\n",
    "                \n",
    "            # Record stats\n",
    "            if not epoch % err_step:\n",
    "                e_test.append(sess.run(net['err'], {\n",
    "                    net['x']: test['imgs'],\n",
    "                    net['y']: test['labs'],\n",
    "                }))\n",
    "            \n",
    "    print('\\nDONE')\n",
    "    return e_test"
   ]
  },
  {
   "cell_type": "code",
   "execution_count": 12,
   "metadata": {
    "collapsed": true,
    "deletable": true,
    "editable": true
   },
   "outputs": [],
   "source": [
    "# Hyperparameters\n",
    "n_epoch = 300\n",
    "n_batch = 100\n",
    "learning_rate = 0.0005"
   ]
  },
  {
   "cell_type": "code",
   "execution_count": 13,
   "metadata": {
    "collapsed": false,
    "deletable": true,
    "editable": true
   },
   "outputs": [],
   "source": [
    "# Make networks\n",
    "plain_net = mk_net(plain, learning_rate)\n",
    "resnet_net = mk_net(resnet(), learning_rate)\n",
    "ext_resnet_net = mk_net(ext_resnet, learning_rate)\n",
    "decay_resnet_net = mk_net(resnet(0.5), learning_rate)"
   ]
  },
  {
   "cell_type": "code",
   "execution_count": null,
   "metadata": {
    "collapsed": true,
    "deletable": true,
    "editable": true
   },
   "outputs": [],
   "source": [
    "# Train networks\n",
    "def do_train(net):\n",
    "    return train(net, dat_train, dat_test, n_epoch, n_batch, 5)"
   ]
  },
  {
   "cell_type": "code",
   "execution_count": null,
   "metadata": {
    "collapsed": false,
    "deletable": true,
    "editable": true,
    "scrolled": true
   },
   "outputs": [
    {
     "name": "stdout",
     "output_type": "stream",
     "text": [
      "TRAINING: PLAIN\n",
      "0.....................................................................................................1.....................................................................................................2.....................................................................................................3.....................................................................................................4.....................................................................................................5.....................................................................................................6.....................................................................................................7.....................................................................................................8.....................................................................................................9.....................................................................................................10.....................................................................................................11.....................................................................................................12.....................................................................................................13.....................................................................................................14.....................................................................................................15.....................................................................................................16.....................................................................................................17.....................................................................................................18.....................................................................................................19.....................................................................................................20.....................................................................................................21.............................................................................................44.....................................................................................................45......................................................................................................................................74.....................................................................................................75.....................................................................................................76.....................................................................................................77.....................................................................................................78.....................................................................................................79.....................................................................................................80.....................................................................................................81.."
     ]
    }
   ],
   "source": [
    "print(\"TRAINING: PLAIN\")\n",
    "e_plain = do_train(plain_net)"
   ]
  },
  {
   "cell_type": "code",
   "execution_count": null,
   "metadata": {
    "collapsed": false,
    "deletable": true,
    "editable": true
   },
   "outputs": [],
   "source": [
    "plot(e_plain, step=5)"
   ]
  },
  {
   "cell_type": "code",
   "execution_count": null,
   "metadata": {
    "collapsed": false,
    "deletable": true,
    "editable": true,
    "scrolled": true
   },
   "outputs": [],
   "source": [
    "print(\"TRAINING: RESNET\")\n",
    "e_resnet = do_train(resnet_net)"
   ]
  },
  {
   "cell_type": "code",
   "execution_count": null,
   "metadata": {
    "collapsed": false,
    "deletable": true,
    "editable": true
   },
   "outputs": [],
   "source": [
    "plot(e_resnet, step=10)"
   ]
  },
  {
   "cell_type": "code",
   "execution_count": null,
   "metadata": {
    "collapsed": false,
    "deletable": true,
    "editable": true
   },
   "outputs": [],
   "source": [
    "print(\"TRAINING: EXTENDED RESNET\")\n",
    "e_ext_resnet_net = do_train(ext_resnet_net)"
   ]
  },
  {
   "cell_type": "code",
   "execution_count": null,
   "metadata": {
    "collapsed": false,
    "deletable": true,
    "editable": true
   },
   "outputs": [],
   "source": [
    "plot(e_ext_resnet_net, step=10)"
   ]
  },
  {
   "cell_type": "code",
   "execution_count": null,
   "metadata": {
    "collapsed": false,
    "deletable": true,
    "editable": true
   },
   "outputs": [],
   "source": [
    "print(\"TRAINING: DECAYING RESNET\")\n",
    "e_decay_resnet_net = do_train(decay_resnet_net)"
   ]
  },
  {
   "cell_type": "code",
   "execution_count": null,
   "metadata": {
    "collapsed": false,
    "deletable": true,
    "editable": true
   },
   "outputs": [],
   "source": [
    "plot(e_decay_resnet_net, step=10)"
   ]
  },
  {
   "cell_type": "code",
   "execution_count": null,
   "metadata": {
    "collapsed": true
   },
   "outputs": [],
   "source": []
  }
 ],
 "metadata": {
  "kernelspec": {
   "display_name": "Python 2",
   "language": "python",
   "name": "python2"
  },
  "language_info": {
   "codemirror_mode": {
    "name": "ipython",
    "version": 2
   },
   "file_extension": ".py",
   "mimetype": "text/x-python",
   "name": "python",
   "nbconvert_exporter": "python",
   "pygments_lexer": "ipython2",
   "version": "2.7.12"
  }
 },
 "nbformat": 4,
 "nbformat_minor": 2
}
