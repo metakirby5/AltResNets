{
 "cells": [
  {
   "cell_type": "code",
   "execution_count": 1,
   "metadata": {
    "collapsed": false,
    "deletable": true,
    "editable": true
   },
   "outputs": [],
   "source": [
    "from __future__ import division\n",
    "from __future__ import print_function\n",
    "\n",
    "import os\n",
    "import random\n",
    "import matplotlib.pyplot as plt\n",
    "import numpy as np\n",
    "import tensorflow as tf\n",
    "from IPython.display import display, Math\n",
    "from scipy.misc import imread"
   ]
  },
  {
   "cell_type": "code",
   "execution_count": 50,
   "metadata": {
    "collapsed": true,
    "deletable": true,
    "editable": true
   },
   "outputs": [],
   "source": [
    "def plot_loss(errs, title='Loss', ylabel='Loss', step=1):\n",
    "    plt.title(title)\n",
    "    plt.xlabel('Epoch')\n",
    "    plt.ylabel(ylabel)\n",
    "    plt.plot(range(0, len(errs) * step, step), errs)\n",
    "    plt.show()\n",
    "\n",
    "def mean_norm(dataset):\n",
    "    \"\"\"\n",
    "    subtract mean and do normalization for each image\n",
    "    Args:\n",
    "        dataset: dataset with shape [N, H, W, C]\n",
    "                 N data points, Height H, Width W, Channel C\n",
    "    Return:\n",
    "        dataset: processed dataset\n",
    "    \"\"\"\n",
    "    N, H, W, C = dataset.shape\n",
    "    X = dataset.reshape((N, -1))\n",
    "    X -= np.mean(X, axis = 0)\n",
    "    X /= np.std(X, axis = 0)\n",
    "    X = X.reshape((N, H, W, C))\n",
    "    return X"
   ]
  },
  {
   "cell_type": "code",
   "execution_count": 3,
   "metadata": {
    "collapsed": false,
    "deletable": true,
    "editable": true
   },
   "outputs": [],
   "source": [
    "# Read label names\n",
    "with open('tiny-imagenet-200/wnids.txt') as f:\n",
    "    wnids = [str.strip(s) for s in f]"
   ]
  },
  {
   "cell_type": "code",
   "execution_count": 4,
   "metadata": {
    "collapsed": false,
    "deletable": true,
    "editable": true
   },
   "outputs": [],
   "source": [
    "# Construct labels\n",
    "labs = [i for l in [[j] * 500 for j in range(200)] for i in l]\n",
    "labs = np.eye(200)[labs]"
   ]
  },
  {
   "cell_type": "code",
   "execution_count": 5,
   "metadata": {
    "collapsed": false,
    "deletable": true,
    "editable": true
   },
   "outputs": [],
   "source": [
    "# Read images\n",
    "imgs = []\n",
    "for wnid in wnids:\n",
    "    subdir = 'tiny-imagenet-200/train/%s/images/' % wnid\n",
    "    files = [subdir + s for s in os.listdir(subdir)]\n",
    "    imgs.extend([imread(f, mode='RGB') for f in files])"
   ]
  },
  {
   "cell_type": "code",
   "execution_count": 6,
   "metadata": {
    "collapsed": false,
    "deletable": true,
    "editable": true
   },
   "outputs": [],
   "source": [
    "# Shuffle images and labels\n",
    "comb = zip(labs, imgs)\n",
    "random.shuffle(comb)\n",
    "s_labs, s_imgs = zip(*comb)"
   ]
  },
  {
   "cell_type": "code",
   "execution_count": 7,
   "metadata": {
    "collapsed": false,
    "deletable": true,
    "editable": true
   },
   "outputs": [],
   "source": [
    "# Prepare data\n",
    "train_imgs = mean_norm(np.array(s_imgs, dtype=np.float32))\n",
    "train_labs = np.array(s_labs, dtype=np.int32)"
   ]
  },
  {
   "cell_type": "code",
   "execution_count": 61,
   "metadata": {
    "collapsed": false,
    "deletable": true,
    "editable": true
   },
   "outputs": [],
   "source": [
    "learning_rate = 0.0001\n",
    "\n",
    "# Network shape\n",
    "\n",
    "def weight(shape):\n",
    "    return tf.Variable(tf.truncated_normal(shape, stddev=0.1))\n",
    "def bias(shape):\n",
    "    return tf.Variable(tf.constant(0.1, shape=shape))\n",
    "\n",
    "activate = tf.nn.relu\n",
    "def conv(x, filter_size, filters_out, stride=1):\n",
    "    filters_in = x.get_shape()[-1].value\n",
    "    w = weight([filter_size, filter_size, filters_in, filters_out])\n",
    "    b = bias([filters_out])\n",
    "    return activate(\n",
    "        tf.nn.conv2d(x, w, [1, stride, stride, 1], 'SAME') + b)\n",
    "def fc(x, nodes):\n",
    "    vec_in = x.get_shape()[-1].value\n",
    "    w = weight([vec_in, nodes])\n",
    "    b = bias([nodes])\n",
    "    return tf.matmul(x, w) + b\n",
    "\n",
    "# Creates entire network. Takes a function which makes\n",
    "# the convolutional layers.\n",
    "def mk_net(mk_conv):\n",
    "    # Endpoints\n",
    "    _x = tf.placeholder(tf.float32, [None, 64, 64, 3])\n",
    "    _y = tf.placeholder(tf.float32, [None, 200])\n",
    "\n",
    "    _conv = mk_conv(_x)\n",
    "\n",
    "    # Flatten, then fully-connected 500 node\n",
    "    _, w, h, c = [d.value for d in _conv.get_shape()]\n",
    "    _flat = tf.reshape(_conv, [-1, w * h * c])\n",
    "    _hidd = activate(fc(_flat, 500))\n",
    "    _out = fc(_hidd, 200)\n",
    "\n",
    "    # Optimization\n",
    "    _cel = tf.nn.softmax_cross_entropy_with_logits(logits=_out, labels=_y)\n",
    "    _loss = tf.reduce_mean(_cel)\n",
    "    _opt = tf.train.AdamOptimizer(learning_rate).minimize(_loss)\n",
    "\n",
    "    # Validation\n",
    "    _pred = tf.argmax(_out, 1)\n",
    "    _ans = tf.argmax(_y, 1)\n",
    "    _err = tf.reduce_mean(tf.cast(tf.not_equal(_pred, _ans), tf.float32))\n",
    "\n",
    "    _init = tf.global_variables_initializer()\n",
    "    \n",
    "    # Return the nodes we need\n",
    "    return {\n",
    "        'x': _x,\n",
    "        'y': _y,\n",
    "        'opt': _opt,\n",
    "        'loss': _loss,\n",
    "        'pred': _pred,\n",
    "        'err': _err,\n",
    "        'init': _init,\n",
    "    }\n",
    "\n",
    "def plain(x):  \n",
    "    # Create convolutional layers\n",
    "    # 16 layers, 3x3 convolutions\n",
    "    # Pooling via stride + channel increase every 8 layers\n",
    "    _cur = x\n",
    "    filters_out = 8\n",
    "    for _ in range(2):\n",
    "        _cur = conv(_cur, 3, filters_out, 2)\n",
    "        for _ in range(7):\n",
    "            _cur = conv(_cur, 3, filters_out, 1)\n",
    "        filters_out *= 2\n",
    "    return _cur\n",
    "\n",
    "def resnet(x, decay_factor=1):\n",
    "    # Same as plain, but add residual every 2 layers\n",
    "    # Optional decaying factor\n",
    "    _cur = x\n",
    "    filters_out = 8\n",
    "    \n",
    "    for _ in range(2):\n",
    "        _cur = conv(_cur, 3, filters_out, 2)\n",
    "        _res = _cur = conv(_cur, 3, filters_out, 1)\n",
    "        for _ in range(3):\n",
    "            _cur = conv(_cur, 3, filters_out, 1)\n",
    "            _res = _cur = conv(_cur, 3, filters_out, 1) + _res * decay_factor\n",
    "        filters_out *= 2\n",
    "    return _cur\n",
    "\n",
    "# def ext_resnet(x):\n",
    "#     # Our original design.\n",
    "#     # Add residual every multiple of 2 layers\n",
    "#     _cur = x\n",
    "#     filters_out = 8\n",
    "    \n",
    "#     def add_residuals(cur, preds):\n",
    "#         for i, pred in enumerate(reversed(preds)):\n",
    "#             cur += pred / i\n",
    "#         return cur\n",
    "            \n",
    "#     for _ in range(2):\n",
    "#         _cur = conv(_cur, 3, filters_out, 2)\n",
    "#         _cur = conv(_cur, 3, filters_out, 1)\n",
    "#         preds = [_cur]\n",
    "#         for _ in range(3):\n",
    "#             _cur = conv(_cur, 3, filters_out, 1)\n",
    "#             _cur = conv(_cur, 3, filters_out, 1)\n",
    "#             _cur = add_residuals(_cur, preds)\n",
    "#             preds.append(_cur)\n",
    "#         filters_out *= 2\n",
    "#     return _cur"
   ]
  },
  {
   "cell_type": "code",
   "execution_count": 55,
   "metadata": {
    "collapsed": true
   },
   "outputs": [],
   "source": [
    "# Training\n",
    "def train(net, imgs, labs, epochs):\n",
    "    loss = []\n",
    "    \n",
    "    with tf.Session() as sess:\n",
    "        sess.run(net['init'])\n",
    "        for epoch in range(epochs):\n",
    "            print(epoch, end='.')\n",
    "\n",
    "            tot_loss = 0\n",
    "            for idx in range(0, len(imgs), n_batch):\n",
    "                feed = {\n",
    "                    net['x']: imgs[idx:idx + n_batch],\n",
    "                    net['y']: labs[idx:idx + n_batch],\n",
    "                }\n",
    "                _, cur_loss = sess.run([net['opt'], net['loss']], feed)\n",
    "                tot_loss += cur_loss\n",
    "            loss.append(tot_loss / n_batch)\n",
    "            \n",
    "    print('\\nDONE')\n",
    "    return loss"
   ]
  },
  {
   "cell_type": "code",
   "execution_count": 56,
   "metadata": {
    "collapsed": true
   },
   "outputs": [],
   "source": [
    "# Hyperparameters\n",
    "n_epoch = 500\n",
    "n_batch = 100"
   ]
  },
  {
   "cell_type": "code",
   "execution_count": 64,
   "metadata": {
    "collapsed": false
   },
   "outputs": [
    {
     "name": "stdout",
     "output_type": "stream",
     "text": [
      "0.1.2.3.4.5.6.7.8.9.10.11.12.13.14.15.16.17.18.19.20.21.22.23.24.25.26.27.28.29.30.31.32.33.34.35.36.37.38.39.40.41.42.43.44.45.46.47.48.49.50.51.52.53.54.55.56.57.58.59.60.61.62.63.64.65.66.67.68.69.70.71.72.73.74.75.76.77.78.79.80.81.82.83.84.85.86.87.88.89.90.91.92.93.94.95.96.97.98.99.\n",
      "DONE\n"
     ]
    }
   ],
   "source": [
    "# Train plain network\n",
    "loss = train(mk_net(ext_resnet), train_imgs[:100], train_labs[:100], 100)"
   ]
  },
  {
   "cell_type": "code",
   "execution_count": 52,
   "metadata": {
    "collapsed": false
   },
   "outputs": [
    {
     "data": {
      "image/png": "[encoded data removed]",
      "text/plain": [
       "<matplotlib.figure.Figure at 0x7f7c2c19ec90>"
      ]
     },
     "metadata": {},
     "output_type": "display_data"
    }
   ],
   "source": [
    "plot_loss(loss)"
   ]
  },
  {
   "cell_type": "code",
   "execution_count": 58,
   "metadata": {
    "collapsed": false
   },
   "outputs": [
    {
     "data": {
      "image/png": "[encoded data removed]",
      "text/plain": [
       "<matplotlib.figure.Figure at 0x7f7c08a2aa50>"
      ]
     },
     "metadata": {},
     "output_type": "display_data"
    }
   ],
   "source": [
    "plot_loss(loss)"
   ]
  },
  {
   "cell_type": "code",
   "execution_count": 66,
   "metadata": {
    "collapsed": false
   },
   "outputs": [
    {
     "data": {
      "image/png": "[encoded data removed]",
      "text/plain": [
       "<matplotlib.figure.Figure at 0x7f7bffce43d0>"
      ]
     },
     "metadata": {},
     "output_type": "display_data"
    }
   ],
   "source": [
    "plot_loss(loss)"
   ]
  },
  {
   "cell_type": "code",
   "execution_count": null,
   "metadata": {
    "collapsed": true
   },
   "outputs": [],
   "source": []
  }
 ],
 "metadata": {
  "kernelspec": {
   "display_name": "Python 2",
   "language": "python",
   "name": "python2"
  },
  "language_info": {
   "codemirror_mode": {
    "name": "ipython",
    "version": 2
   },
   "file_extension": ".py",
   "mimetype": "text/x-python",
   "name": "python",
   "nbconvert_exporter": "python",
   "pygments_lexer": "ipython2",
   "version": "2.7.12"
  }
 },
 "nbformat": 4,
 "nbformat_minor": 2
}
